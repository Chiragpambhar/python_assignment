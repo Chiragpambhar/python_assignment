{
 "cells": [
  {
   "cell_type": "code",
   "execution_count": null,
   "id": "3594194c",
   "metadata": {},
   "outputs": [],
   "source": [
    "# What is List? How will you reverse a list?\n",
    "\n",
    "# ---> Lists are used to store multiple items in a single variable.\n",
    "# ---> list is a collection of elements of similar or different datatype.\n",
    "# ---> In Python, a built-in function called reverse() is used to reverse the list.\n",
    "# ---> Syntax: list_name.reverse() Here, list_name means you have to write the list's name, which has to be reversed.\n",
    "\n"
   ]
  },
  {
   "cell_type": "code",
   "execution_count": null,
   "id": "b8930632",
   "metadata": {},
   "outputs": [],
   "source": [
    "# How will you remove last object from a list? Suppose list1 is [2, 33, 222, 14, and 25], what is list1 [-1]? \n",
    "\n",
    "# ---> One way is to use the pop() method. This method removes the last element of a list by default, \n",
    "# ---> or you can specify the index of the element you want to remove.\n",
    "# ---> list[-1] is 25. Beacuse of -1 index is the last index in the list.\n",
    "\n"
   ]
  },
  {
   "cell_type": "code",
   "execution_count": null,
   "id": "7abce9b8",
   "metadata": {},
   "outputs": [],
   "source": [
    "# ---> Differentiate between append () and extend () methods? \n",
    "\n",
    "# ---> The append() method in the Python programming language adds an item to a list that already exists whereas \n",
    "# ---> the extend() method adds each of the iterable elements which is supplied as a parameter to the end of the original list.\n",
    "       \n",
    "    "
   ]
  },
  {
   "cell_type": "code",
   "execution_count": null,
   "id": "dc1751f2",
   "metadata": {},
   "outputs": [],
   "source": [
    "# Write a Python function to get the largest number, smallest num and sum of all from a list?\n",
    "\n",
    "# ---> Use Python's min() to find smallest values in your data.\n",
    "# ---> Use Python's max() to find largest values in your data.\n",
    "# ---> Use Python's sum() to sum of all values in your list.\n",
    "\n"
   ]
  },
  {
   "cell_type": "code",
   "execution_count": null,
   "id": "76ad8845",
   "metadata": {},
   "outputs": [],
   "source": [
    "# How will you compare two lists? \n",
    "\n",
    "# ---> The most Pythonic way to check if two ordered lists l1 and l2 are identical, is to use the l1 == l2 operator \n",
    "# ---> for element-wise comparison. If all elements are equal and the length of the lists are the same, \n",
    "# ---> the return value is True .\n",
    "\n"
   ]
  },
  {
   "cell_type": "code",
   "execution_count": 6,
   "id": "41ea7b13",
   "metadata": {},
   "outputs": [
    {
     "name": "stdout",
     "output_type": "stream",
     "text": [
      "First and last character are same from given list: 2\n"
     ]
    }
   ],
   "source": [
    "# Write a Python program to count the number of strings where the string length is 2 or more and the first and last \n",
    "# character are same from a given list of strings. \n",
    "\n",
    "list1 = [\"hello\",\"demo\",\"1221\",\"strings\"]\n",
    "ch = 0\n",
    "for i in list1:                \n",
    "    if len(i) > 2 and i[0] == i[-1]:         #to check length and first and last character are same\n",
    "        ch += 1\n",
    "print(f\"First and last character are same from given list: {ch}\")\n",
    "\n"
   ]
  },
  {
   "cell_type": "code",
   "execution_count": 3,
   "id": "52bb445f",
   "metadata": {},
   "outputs": [
    {
     "name": "stdout",
     "output_type": "stream",
     "text": [
      "[6, 70, 40, 10, 50, 20, 30]\n"
     ]
    }
   ],
   "source": [
    "# Write a Python program to remove duplicates from a list.\n",
    "\n",
    "list1 = [10,20,30,10,50,40,30,20,6,70]\n",
    "list1 = list(set(list1))  # To convert a list to a set \n",
    "print(list1)\n"
   ]
  },
  {
   "cell_type": "code",
   "execution_count": 5,
   "id": "02d7988c",
   "metadata": {},
   "outputs": [
    {
     "name": "stdout",
     "output_type": "stream",
     "text": [
      "list is not empty\n"
     ]
    }
   ],
   "source": [
    "# Write a Python program to check a list is empty or not.\n",
    "\n",
    "list1 = [41,20,3,6,52,64,54]\n",
    "if (list1 == 0):              # check condition list1 eqal to zero\n",
    "    print(\"list is empty\")\n",
    "else:\n",
    "    print(\"list is not empty\")"
   ]
  },
  {
   "cell_type": "code",
   "execution_count": 28,
   "id": "c61108b6",
   "metadata": {},
   "outputs": [
    {
     "name": "stdout",
     "output_type": "stream",
     "text": [
      "True\n"
     ]
    }
   ],
   "source": [
    "# Write a Python function that takes two lists and returns true if they have at least one common member.\n",
    "\n",
    "list1 = [10,20,30,40,50]\n",
    "list2 = [50,60,70,80,90]\n",
    "\n",
    "for i in list1:\n",
    "    for j in list2:\n",
    "        if i==j:                   # to check list1 and list2 element eqal or not\n",
    "            print(\"True\")\n",
    "\n",
    "\n"
   ]
  },
  {
   "cell_type": "code",
   "execution_count": 9,
   "id": "7fce8f35",
   "metadata": {},
   "outputs": [
    {
     "name": "stdout",
     "output_type": "stream",
     "text": [
      "[1, 4, 9, 16, 25]\n",
      "[676, 729, 784, 841, 900]\n"
     ]
    }
   ],
   "source": [
    "# Write a Python program to generate and print a list of first and last 5 elements where the values are square of  \n",
    "# numbers between 1 and 30. \n",
    "\n",
    "list1 = []\n",
    "for i in range(1,31):       \n",
    "    list1.append(i*i)       # add square value at last of list1 \n",
    "print(list1[:5])            # print first 5 element of list1\n",
    "print(list1[-5:])           # print last 5 element of list1"
   ]
  },
  {
   "cell_type": "code",
   "execution_count": 10,
   "id": "00838a10",
   "metadata": {},
   "outputs": [
    {
     "name": "stdout",
     "output_type": "stream",
     "text": [
      "[1, 2, 3, 4, 5]\n"
     ]
    }
   ],
   "source": [
    "# Write a Python function that takes a list and returns a new list with unique elements of the first list. \n",
    "\n",
    "def f(list1):\n",
    "    x = []                    \n",
    "    for a in list1:\n",
    "        if a not in x:         # check if exists in unique list or not\n",
    "            x.append(a)       # To add element of list\n",
    "    return x\n",
    "\n",
    "print(f([1,2,3,3,3,3,4,5]))\n"
   ]
  },
  {
   "cell_type": "code",
   "execution_count": 10,
   "id": "011f3a38",
   "metadata": {},
   "outputs": [
    {
     "name": "stdout",
     "output_type": "stream",
     "text": [
      "chirag\n"
     ]
    }
   ],
   "source": [
    "# Write a Python program to convert a list of characters into a string. \n",
    "\n",
    "list1 = ['c','h','i','r','a','g']\n",
    "str1 = \"\".join(list1)        # To convert a list to a string and join the string\n",
    "print(str1)\n"
   ]
  },
  {
   "cell_type": "code",
   "execution_count": 6,
   "id": "1e61c5f5",
   "metadata": {},
   "outputs": [
    {
     "name": "stdout",
     "output_type": "stream",
     "text": [
      "50\n"
     ]
    }
   ],
   "source": [
    "# Write a Python program to select an item randomly from a list.\n",
    "\n",
    "import random\n",
    "list1 = [10,20,30,40,50]\n",
    "a = random.choice(list1)   # random module use for random value\n",
    "print(a)\n",
    "\n"
   ]
  },
  {
   "cell_type": "code",
   "execution_count": 16,
   "id": "f97e70df",
   "metadata": {},
   "outputs": [
    {
     "name": "stdout",
     "output_type": "stream",
     "text": [
      "[10, 20, 30, 40, 50, 60, 70, 80]\n",
      "The second smallest number is: 20\n"
     ]
    }
   ],
   "source": [
    "# Write a Python program to find the second smallest number in a list.\n",
    "\n",
    "list1 = [10,60,70,80,20,30,40,50]\n",
    "list1.sort()      #list asscending order \n",
    "print(list1)\n",
    "a = list1[1]      #check the element of 1 number index\n",
    "print(f\"The second smallest number is: {a}\")\n",
    "\n"
   ]
  },
  {
   "cell_type": "code",
   "execution_count": 13,
   "id": "2d0ebef5",
   "metadata": {},
   "outputs": [
    {
     "name": "stdout",
     "output_type": "stream",
     "text": [
      "unique values from a list:[40, 10, 50, 20, 30]\n"
     ]
    }
   ],
   "source": [
    "# Write a Python program to get unique values from a list\n",
    "\n",
    "list1 = [10,20,30,10,20,40,50,10,30]\n",
    "list2 = set(list1)          # To convert list to set\n",
    "list1 = list(list2)         # To convert set to list\n",
    "print(f\"unique values from a list:{list1}\")\n"
   ]
  },
  {
   "cell_type": "code",
   "execution_count": 3,
   "id": "0a5b0e4c",
   "metadata": {},
   "outputs": [
    {
     "data": {
      "text/plain": [
       "True"
      ]
     },
     "execution_count": 3,
     "metadata": {},
     "output_type": "execute_result"
    }
   ],
   "source": [
    "# Write a Python program to check whether a list contains a sub list\n",
    "\n",
    "main_list = [1,2,3,4,5,6,7,8,9]\n",
    "sub_list = [1,2,3]\n",
    "main_list = set(main_list)      # To covert list to set\n",
    "sub_list = set(sub_list)\n",
    "sub_list.issubset(main_list)                #to check for sublist in main list\n",
    "    "
   ]
  },
  {
   "cell_type": "code",
   "execution_count": 8,
   "id": "4f9c3f94",
   "metadata": {},
   "outputs": [
    {
     "name": "stdout",
     "output_type": "stream",
     "text": [
      "['hello', (10, 20), 10.2, {10, 20, 30}, 'demo']\n",
      "[\"['hello'\", ' (10', ' 20)', ' 10.2', ' {10', ' 20', ' 30}', \" 'demo']\"]\n"
     ]
    }
   ],
   "source": [
    "# Write a Python program to split a list into different variables.\n",
    "\n",
    "list1 = [\"hello\",(10,20),10.20,{10,20,30},\"demo\"]\n",
    "str1 = str(list1)\n",
    "print(str1)\n",
    "a = str1.split(\",\")\n",
    "print(a)\n",
    "\n"
   ]
  },
  {
   "cell_type": "code",
   "execution_count": null,
   "id": "8c62b063",
   "metadata": {},
   "outputs": [],
   "source": [
    "# What is tuple? Difference between list and tuple.\n",
    "\n",
    "# --->Tuples are used to store multiple items in a single variable. Tuple is one of 4 built-in data types in Python \n",
    "# --->used to store collections of data, the other 3 are List, Set, and Dictionary, all with different qualities and usage.\n",
    "\n",
    "# --->The primary difference between tuples and lists is that tuples are immutable as opposed to lists which are mutable. \n",
    "# --->Therefore, it is possible to change a list but not a tuple. \n",
    "# --->The contents of a tuple cannot change once they have been created in Python due to the immutability of tuples."
   ]
  },
  {
   "cell_type": "code",
   "execution_count": 24,
   "id": "65060704",
   "metadata": {},
   "outputs": [
    {
     "name": "stdout",
     "output_type": "stream",
     "text": [
      "how many element in tuple: 5\n",
      "Enter a 0 element: gygyv\n",
      "Enter a 1 element: 20\n",
      "Enter a 2 element: true\n",
      "Enter a 3 element: [10,20,30]\n",
      "Enter a 4 element: \"hello\"\n",
      "('gygyv', '20', 'true', '[10,20,30]', '\"hello\"')\n"
     ]
    }
   ],
   "source": [
    "# Write a Python program to create a tuple with different data types. \n",
    "\n",
    "list1 = []\n",
    "num = int(input(\"how many element in tuple: \"))\n",
    "\n",
    "for i in range(num):\n",
    "    element = input(f\"Enter a {i} element: \")\n",
    "    list1.append(element)               # To add tuple element\n",
    "list1 = tuple(list1)                    # list type change in tuple\n",
    "print(list1)"
   ]
  },
  {
   "cell_type": "code",
   "execution_count": 23,
   "id": "8b6de204",
   "metadata": {
    "scrolled": false
   },
   "outputs": [
    {
     "name": "stdout",
     "output_type": "stream",
     "text": [
      "How Many Number in Tuple:5\n",
      "Enter a 0 number:10\n",
      "Enter a 1 number:20\n",
      "Enter a 2 number:30\n",
      "Enter a 3 number:40\n",
      "Enter a 4 number:50\n",
      "(10, 20, 30, 40, 50)\n"
     ]
    }
   ],
   "source": [
    "# Write a Python program to create a tuple with numbers.\n",
    "\n",
    "list1 = []\n",
    "num = int(input(\"How Many Number in Tuple:\"))    \n",
    "\n",
    "for i in range(num):\n",
    "    no = int(input(f\"Enter a {i} number:\"))      \n",
    "    list1.append(no)                    # To add tuple number\n",
    "list1 = tuple(list1)                  # list type change in tuple\n",
    "print(list1)\n"
   ]
  },
  {
   "cell_type": "code",
   "execution_count": 19,
   "id": "23871e6e",
   "metadata": {},
   "outputs": [
    {
     "name": "stdout",
     "output_type": "stream",
     "text": [
      "chirag\n"
     ]
    }
   ],
   "source": [
    "# Write a Python program to convert a tuple to a string.\n",
    "\n",
    "tuple1 = ('c','h','i','r','a','g')\n",
    "str1 = \"\".join(tuple1)            # To convert a tuple to a string and join the string\n",
    "print(str1)"
   ]
  },
  {
   "cell_type": "code",
   "execution_count": 33,
   "id": "72506687",
   "metadata": {},
   "outputs": [
    {
     "name": "stdout",
     "output_type": "stream",
     "text": [
      "This element exists in tuple1\n"
     ]
    }
   ],
   "source": [
    "# Write a Python program to check whether an element exists within a tuple.\n",
    "\n",
    "tuple1 = (10,20,30,40,50,\"hello\",\"demo\")\n",
    "n = 50\n",
    "for i in tuple1:  \n",
    "    if n == i:                  # to check tuple element and n value are equl\n",
    "        print(\"This element exists in tuple1\")\n"
   ]
  },
  {
   "cell_type": "code",
   "execution_count": 2,
   "id": "c096d6b2",
   "metadata": {},
   "outputs": [
    {
     "name": "stdout",
     "output_type": "stream",
     "text": [
      "Tuple length of: 6\n"
     ]
    }
   ],
   "source": [
    "# Write a Python program to find the length of a tuple. \n",
    "\n",
    "tuple1 = (10,20,30,40,\"hello\",50)\n",
    "a = len(tuple1)         # Length of tuple1\n",
    "print(f\"Tuple length of: {a}\")\n"
   ]
  },
  {
   "cell_type": "code",
   "execution_count": 4,
   "id": "e8ba9d5b",
   "metadata": {},
   "outputs": [
    {
     "name": "stdout",
     "output_type": "stream",
     "text": [
      "converted list is :(10, 20, 30, 40, 50, 'chirag')\n"
     ]
    }
   ],
   "source": [
    "# Write a Python program to convert a list to a tuple. \n",
    "\n",
    "list1 = [10,20,30,40,50,\"chirag\"]\n",
    "tuple1 = tuple(list1)       # convert list to tuple\n",
    "print(f\"converted list is :{tuple1}\")\n"
   ]
  },
  {
   "cell_type": "code",
   "execution_count": 18,
   "id": "33bb5143",
   "metadata": {},
   "outputs": [
    {
     "name": "stdout",
     "output_type": "stream",
     "text": [
      "('hello', 60, 50, 40, 30, 20, 10)\n"
     ]
    }
   ],
   "source": [
    "# Write a Python program to reverse a tuple.\n",
    "\n",
    "tuple1 = (10,20,30,40,50,60,\"hello\")\n",
    "print(tuple1[-1:-8:-1])      #reverse of tuple\n"
   ]
  },
  {
   "cell_type": "code",
   "execution_count": 7,
   "id": "be2c0d0a",
   "metadata": {},
   "outputs": [
    {
     "name": "stdout",
     "output_type": "stream",
     "text": [
      "[(10, 20, 100), (40, 50, 100), (70, 80, 100)]\n"
     ]
    }
   ],
   "source": [
    "# Write a Python program to replace last value of tuples in a list.\n",
    "\n",
    "list1=[(10,20,30),(40,50,60),(70,80,90)]\n",
    "print([tup[:-1]+(100,)for tup in list1])"
   ]
  },
  {
   "cell_type": "code",
   "execution_count": 50,
   "id": "114271c4",
   "metadata": {},
   "outputs": [
    {
     "name": "stdout",
     "output_type": "stream",
     "text": [
      "Repeated items:(10, 20)\n"
     ]
    }
   ],
   "source": [
    "# Write a Python program to find the repeated items of a tuple.\n",
    "\n",
    "tuple1 = (10,20,30,40,10,20,10,10,20,50)\n",
    "repeat = []\n",
    "for i in tuple1:\n",
    "    if tuple1.count(i)>1:       # To count element in tuple1\n",
    "        repeat.append(i)        # To add element at last of the list\n",
    "for x in repeat:\n",
    "    while repeat.count(x)>1:     # To count element in repeat list\n",
    "        repeat.remove(x)         # remove element at first occurence in repeat list\n",
    "print(f\"Repeated items:{tuple(repeat)}\")\n"
   ]
  },
  {
   "cell_type": "code",
   "execution_count": 37,
   "id": "ac8d7c2c",
   "metadata": {},
   "outputs": [
    {
     "name": "stdout",
     "output_type": "stream",
     "text": [
      "[(1, 2), (3, 4), (9, 10), (5, 6)]\n"
     ]
    }
   ],
   "source": [
    "# Write a Python program to remove an empty tuple(s) from a list of tuples.\n",
    "\n",
    "list1 = [(1,2),(),(3,4),(),(9,10),(5,6)]\n",
    "while () in list1:          \n",
    "    list1.remove(());        # remove an empty tuples in list\n",
    "print(list1)\n"
   ]
  },
  {
   "cell_type": "code",
   "execution_count": 43,
   "id": "9d2d86e5",
   "metadata": {},
   "outputs": [
    {
     "name": "stdout",
     "output_type": "stream",
     "text": [
      "[('hello', 'world', 'demo', 'chirag'), (1, 2, 3, 4)]\n"
     ]
    }
   ],
   "source": [
    "# Write a Python program to unzip a list of tuples into individual lists.\n",
    "\n",
    "list1 = [(\"hello\",1),(\"world\",2),(\"demo\",3),(\"chirag\",4)]\n",
    "new_list = []\n",
    "a = []\n",
    "b = []\n",
    "for i in list1:\n",
    "    a.append(i[0])      # add element of index 0 in list a\n",
    "    b.append(i[1])      # add element of index 1 in list b\n",
    "new_list.append(tuple(a))      # list a add in new_list\n",
    "new_list.append(tuple(b))      # list b add in new_list\n",
    "print(new_list)"
   ]
  },
  {
   "cell_type": "code",
   "execution_count": 44,
   "id": "2504d1ac",
   "metadata": {},
   "outputs": [
    {
     "name": "stdout",
     "output_type": "stream",
     "text": [
      "{'hello': 1, 'world': 2, 'demo': 3, 'chirag': 4}\n"
     ]
    }
   ],
   "source": [
    "# Write a Python program to convert a list of tuples into a dictionary. \n",
    "\n",
    "tuple1 = ((\"hello\",1),(\"world\",2),(\"demo\",3),(\"chirag\",4))\n",
    "dict1 = dict(tuple1)      # To convert tuple to dictionary\n",
    "print(dict1)\n"
   ]
  },
  {
   "cell_type": "code",
   "execution_count": null,
   "id": "1106d2a7",
   "metadata": {},
   "outputs": [],
   "source": [
    "# How will you create a dictionary using tuples in python?\n",
    "\n",
    "# ---> In Python, use the dict() function to convert a tuple to a dictionary. \n",
    "# ---> A dictionary object can be created with the dict() function. The dictionary is returned by the dict() method, \n",
    "# ---> which takes a tuple of tuples as an argument. A key-value pair is contained in each tuple."
   ]
  },
  {
   "cell_type": "code",
   "execution_count": 21,
   "id": "d5f369fe",
   "metadata": {},
   "outputs": [
    {
     "name": "stdout",
     "output_type": "stream",
     "text": [
      "ascending order is: [(0, 4), (1, 2), (2, 3), (3, 1), (4, 5)]\n",
      "descending order is: [(4, 5), (3, 1), (2, 3), (1, 2), (0, 4)]\n"
     ]
    }
   ],
   "source": [
    "# Write a Python script to sort (ascending and descending) a dictionary by value.\n",
    "\n",
    "dict1 = {1:2,3:1,2:3,4:5,0:4}\n",
    "list1 = list(dict1.items())         # To convert dictionary to list\n",
    "list1.sort()                       # To ascending order\n",
    "print(f\"ascending order is: {list1}\")\n",
    "list1.sort(reverse=True)           # To descending order\n",
    "print(f\"descending order is: {list1}\")"
   ]
  },
  {
   "cell_type": "code",
   "execution_count": 6,
   "id": "b722f11b",
   "metadata": {},
   "outputs": [
    {
     "name": "stdout",
     "output_type": "stream",
     "text": [
      "New dictionary is:\n",
      "{1: 10, 2: 20, 3: 30, 4: 40, 5: 50, 6: 50, 7: 40, 8: 30, 9: 20, 10: 10}\n"
     ]
    }
   ],
   "source": [
    "# Write a Python script to concatenate following dictionaries to create a new one.\n",
    "\n",
    "dict1 = {1:10,2:20,3:30,4:40,5:50}\n",
    "dict2 = {6:50,7:40,8:30,9:20,10:10}\n",
    "dict1.update(dict2)       # Update dictionary in dict1\n",
    "print(\"New dictionary is:\")\n",
    "print(dict1)"
   ]
  },
  {
   "cell_type": "code",
   "execution_count": 7,
   "id": "44054632",
   "metadata": {},
   "outputs": [
    {
     "name": "stdout",
     "output_type": "stream",
     "text": [
      "Given key is already exists\n"
     ]
    }
   ],
   "source": [
    "# Write a Python script to check if a given key already exists in a dictionary.\n",
    "\n",
    "dict1 = {1:\"hello\",2:\"demo\",\"chirag\":3,4:10}\n",
    "key = \"chirag\"\n",
    "if key in dict1:                         # To check key is exists in dictionary\n",
    "    print(\"Given key is already exists\")\n",
    "else:\n",
    "    print(\"Given key is not exists\")"
   ]
  },
  {
   "cell_type": "code",
   "execution_count": null,
   "id": "d101a0ab",
   "metadata": {},
   "outputs": [],
   "source": [
    "# How Do You Traverse Through A Dictionary Object In Python?\n",
    "\n",
    "#    Iterating Through Keys Directly.\n",
    "#    Iterating Through .items()\n",
    "#    Iterating Through .keys()\n",
    "#    Iterating Through .values()"
   ]
  },
  {
   "cell_type": "code",
   "execution_count": null,
   "id": "4476509d",
   "metadata": {},
   "outputs": [],
   "source": [
    "# How Do You Check The Presence Of A Key In A Dictionary?\n",
    "\n",
    "# ---> Using has_key() method returns true if a given key is available in the dictionary, otherwise, it returns a false. \n",
    "# ---> With the Inbuilt method has_key(), use the if statement to check if the key is present in the dictionary or not."
   ]
  },
  {
   "cell_type": "code",
   "execution_count": 23,
   "id": "b21cfdfb",
   "metadata": {},
   "outputs": [
    {
     "name": "stdout",
     "output_type": "stream",
     "text": [
      "{1: 1, 2: 2, 3: 3, 4: 4, 5: 5, 6: 6, 7: 7, 8: 8, 9: 9, 10: 10, 11: 11, 12: 12, 13: 13, 14: 14}\n"
     ]
    }
   ],
   "source": [
    "# Write a Python script to print a dictionary where the keys are numbers between 1 and 15.\n",
    "\n",
    "dict1 = {}\n",
    "for i in range(1,15):         # To key range 1 to 15\n",
    "    dict1[i] = i              # To print key and value\n",
    "print(dict1)\n"
   ]
  },
  {
   "cell_type": "code",
   "execution_count": 35,
   "id": "bbf9cdea",
   "metadata": {},
   "outputs": [
    {
     "name": "stdout",
     "output_type": "stream",
     "text": [
      "Keys: dict_keys([1, 'demo', 3])\n",
      "Multiple keys are exists\n"
     ]
    }
   ],
   "source": [
    "# Write a Python program to check multiple keys exists in a dictionary\n",
    "\n",
    "dict1 = {1:\"hello\",\"demo\":2,3:\"chirag\"}\n",
    "a = dict1.keys()              # gives all keys of dict1\n",
    "print(f\"Keys: {a}\")\n",
    "\n",
    "if len(a) > 1:                 # To check multiple keys exists or not \n",
    "    print(\"Multiple keys are exists\")\n",
    "else:\n",
    "    print(\"Multiple keys are not exists\")\n"
   ]
  },
  {
   "cell_type": "code",
   "execution_count": 15,
   "id": "9dcc0b65",
   "metadata": {},
   "outputs": [
    {
     "name": "stdout",
     "output_type": "stream",
     "text": [
      "{1: 'hello', 2: 'demo', 3: 'chirag', 4: 'pambhar'}\n"
     ]
    }
   ],
   "source": [
    "# Write a Python script to merge two Python dictionaries \n",
    "\n",
    "dict1 = {1:\"hello\",2:\"demo\"}\n",
    "dict2 = {3:\"chirag\",4:\"pambhar\"}\n",
    "copy_dict =dict1.copy()      #dict1 to copy_dict\n",
    "copy_dict.update(dict2)      #update dictionary\n",
    "print(copy_dict)\n"
   ]
  },
  {
   "cell_type": "code",
   "execution_count": 16,
   "id": "5f769168",
   "metadata": {},
   "outputs": [
    {
     "name": "stdout",
     "output_type": "stream",
     "text": [
      "{1: 'demo', 2: 'hello', 3: 'chirag', 4: 'pambhar'}\n"
     ]
    }
   ],
   "source": [
    "# Write a Python program to map two lists into a dictionary\n",
    "\n",
    "list1=[1,2,3,4]\n",
    "list2=[\"demo\",\"hello\",\"chirag\",\"pambhar\"]\n",
    "dict1=dict(zip(list1,list2))   #map two list into a dictionary\n",
    "print(dict1)"
   ]
  },
  {
   "cell_type": "code",
   "execution_count": 28,
   "id": "95de7cda",
   "metadata": {},
   "outputs": [
    {
     "name": "stdout",
     "output_type": "stream",
     "text": [
      "{'a': 400, 'b': 400, 'd': 400, 'c': 300}\n"
     ]
    }
   ],
   "source": [
    "# Write a Python program to combine two dictionary adding values for common keys.\n",
    "# d1 = {'a': 100, 'b': 200, 'c':300} o d2 = {'a': 300, 'b': 200,’d’:400}\n",
    "# Sample output: Counter ({'a': 400, 'b': 400,’d’: 400, 'c': 300}).\n",
    "\n",
    "d1 = {'a': 100, 'b': 200, 'c':300} \n",
    "d2 = {'a': 300, 'b': 200, 'd':400}\n",
    "d3={}\n",
    "for key in d1.keys():\n",
    "    if key in d2.keys():           # To check keys are same or not \n",
    "        d1[key]=d1[key]+d2[key]      \n",
    "    d2 [key]= d1 [key]    \n",
    "print(d2)    "
   ]
  },
  {
   "cell_type": "code",
   "execution_count": 17,
   "id": "9a80c2a0",
   "metadata": {},
   "outputs": [
    {
     "name": "stdout",
     "output_type": "stream",
     "text": [
      "dict_values(['hello', 'I', 'am', 'chirag'])\n"
     ]
    }
   ],
   "source": [
    "# Write a Python program to print all unique values in a dictionary.\n",
    "\n",
    "dict1 = {1:\"hello\",2:\"I\",3:\"am\",4:\"chirag\"}\n",
    "val=dict1.values()         # To find value\n",
    "print(val)\n",
    "\n"
   ]
  },
  {
   "cell_type": "code",
   "execution_count": null,
   "id": "2275eca6",
   "metadata": {},
   "outputs": [],
   "source": [
    "# Why Do You Use the Zip () Method in Python?\n",
    "\n",
    "# ---> Python's zip() function creates an iterator that will aggregate elements from two or more iterables. \n",
    "# ---> You can use the resulting iterator to quickly and consistently solve common programming problems, \n",
    "# ---> like creating dictionaries."
   ]
  },
  {
   "cell_type": "code",
   "execution_count": 19,
   "id": "e9724919",
   "metadata": {},
   "outputs": [
    {
     "name": "stdout",
     "output_type": "stream",
     "text": [
      "ac\n",
      "ad\n",
      "bc\n",
      "bd\n"
     ]
    }
   ],
   "source": [
    "    # Write a Python program to create and display all combinations of letters, \n",
    "    # selecting each letter from a different key in a dictionary.\n",
    "# Sample data: {'1': ['a','b'], '2': ['c','d']}\n",
    "\n",
    "from itertools import product\n",
    "\n",
    "d ={'1':['a','b'], '2':['c','d']}\n",
    "\n",
    "for x, y in product(*d.values()):      #combinations of letters\n",
    "      print(x + y)\n"
   ]
  },
  {
   "cell_type": "code",
   "execution_count": 6,
   "id": "f35a939b",
   "metadata": {},
   "outputs": [
    {
     "name": "stdout",
     "output_type": "stream",
     "text": [
      "a : 500\n",
      "e : 400\n",
      "c : 300\n"
     ]
    }
   ],
   "source": [
    "# Write a Python program to find the highest 3 values in a dictionary\n",
    "\n",
    "dict1 = {\"a\":500,\"b\":200,\"c\":300,\"d\":100,\"e\":400}\n",
    "\n",
    "a = list(dict1.values())\n",
    "a.sort(reverse=True)\n",
    "a = a[:3]\n",
    "for i in a:\n",
    "    for j in dict1.keys():\n",
    "        if(dict1[j] == i):\n",
    "            print(str(j)+\" : \" +str(dict1[j]))\n"
   ]
  },
  {
   "cell_type": "code",
   "execution_count": 22,
   "id": "bdc8890d",
   "metadata": {},
   "outputs": [
    {
     "name": "stdout",
     "output_type": "stream",
     "text": [
      "Counter({'item1': 1150, 'item2': 300})\n"
     ]
    }
   ],
   "source": [
    "# Write a Python program to combine values in python list of dictionaries.\n",
    "# Sample data: [{'item': 'item1', 'amount': 400}, {'item': 'item2', 'amount':300}, o {'item': 'item1', 'amount': 750}]\n",
    "# Expected Output:Counter ({'item1': 1150, 'item2': 300})\n",
    "\n",
    "from collections import Counter\n",
    "item_list = [{'item': 'item1', 'amount': 400}, {'item': 'item2', 'amount': 300}, {'item': 'item1', 'amount': 750}]\n",
    "result = Counter()\n",
    "for d in item_list:                   # To combine values in dictionary\n",
    "    result[d['item']] += d['amount']\n",
    "print(result)\n"
   ]
  },
  {
   "cell_type": "code",
   "execution_count": 27,
   "id": "8be12b32",
   "metadata": {},
   "outputs": [
    {
     "name": "stdout",
     "output_type": "stream",
     "text": [
      "{'w': 1, '3': 1, 'r': 2, 'e': 2, 's': 1, 'o': 1, 'u': 1, 'c': 1}\n"
     ]
    }
   ],
   "source": [
    "# Write a Python program to create a dictionary from a string. \n",
    "# Note: Track the count of the letters from the string.\n",
    "# Sample string: 'w3resource'\n",
    "# Expected output: {'3': 1,’s’: 1, 'r': 2, 'u': 1, 'w': 1, 'c': 1, 'e': 2, 'o': 1}\n",
    "\n",
    "str1=\"w3resource\"\n",
    "dic={}\n",
    "for i in str1:           \n",
    "    dic[i]=dic.get(i, 0)+1           # To count the letters\n",
    "print(dic) \n",
    "\n"
   ]
  },
  {
   "cell_type": "code",
   "execution_count": 1,
   "id": "7a9ffbd6",
   "metadata": {},
   "outputs": [
    {
     "name": "stdout",
     "output_type": "stream",
     "text": [
      "enter the number :5\n",
      "factorial of 5 is 120\n"
     ]
    }
   ],
   "source": [
    "# Write a Python function to calculate the factorial of a number (anonnegative integer) \n",
    "\n",
    "def factorial(a):\n",
    "    fact=1\n",
    "    for i in range(a,0,-1):        # To factorial range\n",
    "        fact=fact*i\n",
    "    return fact                     # To calculate factorial \n",
    "n=int(input(\"enter the number :\"))\n",
    "res=factorial(n)\n",
    "print(\"factorial of\",n,\"is\",res)\n"
   ]
  },
  {
   "cell_type": "code",
   "execution_count": 3,
   "id": "51f9443c",
   "metadata": {},
   "outputs": [
    {
     "name": "stdout",
     "output_type": "stream",
     "text": [
      "Enter starting number: 20\n",
      "Enter ending number: 30\n",
      "Enter a number: 25\n",
      "number is a range\n"
     ]
    }
   ],
   "source": [
    "# Write a Python function to check whether a number is in a given range\n",
    "\n",
    "def check_range(number,start,end):\n",
    "    if start <=number <=end:                       # To condition check number between start and end number\n",
    "        return True\n",
    "    return False\n",
    "start_no = int(input(\"Enter starting number: \"))\n",
    "end_no = int(input(\"Enter ending number: \"))\n",
    "no = int(input(\"Enter a number: \"))\n",
    "\n",
    "flag=check_range(no, start_no, end_no)                 # To range check\n",
    "if flag:\n",
    "    print(\"number is a range\")\n",
    "    \n",
    "else:\n",
    "    print(\"number is not a range\")"
   ]
  },
  {
   "cell_type": "code",
   "execution_count": 4,
   "id": "c7dad343",
   "metadata": {},
   "outputs": [
    {
     "name": "stdout",
     "output_type": "stream",
     "text": [
      "Enter a number: 6\n",
      "The entered number is a perfect number\n"
     ]
    }
   ],
   "source": [
    "# Write a Python function to check whether a number is perfect or not. \n",
    "\n",
    "num = int(input(\"Enter a number: \"))\n",
    "sum=0  \n",
    "for i in range(1,num):       # To check given number range  \n",
    "    if (num%i==0):           # To condition check \n",
    "        sum=sum+i  \n",
    "if(sum==num):                # sum and num are equl\n",
    "    print(\"The entered number is a perfect number\")  \n",
    "else:  \n",
    "    print(\"The entered number is not a perfect number\")  \n"
   ]
  },
  {
   "cell_type": "code",
   "execution_count": 5,
   "id": "9f982c78",
   "metadata": {},
   "outputs": [
    {
     "name": "stdout",
     "output_type": "stream",
     "text": [
      "Yes\n"
     ]
    }
   ],
   "source": [
    "# Write a Python function that checks whether a passed string is palindrome or not\n",
    "\n",
    "def isPalindrome(a):\n",
    "    return a == a[::-1]           # To check string is palidrome or not\n",
    "\n",
    "a = \"malayalam\"\n",
    "ans = isPalindrome(a)\n",
    " \n",
    "if ans:                          #  to check condition for string is palidrome or not palidrome\n",
    "    print(\"This number is palidrome number\")\n",
    "else:\n",
    "    print(\"This number is not palidrome number\")\n"
   ]
  },
  {
   "cell_type": "code",
   "execution_count": null,
   "id": "46e28399",
   "metadata": {},
   "outputs": [],
   "source": [
    "# How Many Basic Types Of Functions Are Available In Python?\n",
    "\n",
    "#   There are two types of functions in python: User-Defined Functions \n",
    "#   - these types of functions are defined by the user to perform any specific task. \n",
    "#   Built-in Functions - These are pre-defined functions in python."
   ]
  },
  {
   "cell_type": "code",
   "execution_count": null,
   "id": "ec67cf84",
   "metadata": {},
   "outputs": [],
   "source": [
    "# How can you pick a random item from a list or tuple?\n",
    "\n",
    "#    Create a tuple and add some dummy data to it.\n",
    "#    Generate a random item from the tuple using random.choice() method(This function returns a random element from\n",
    "#    the specified sequence i.e tuple here) by passing the input tuple as an argument to the choice() function.\n",
    "#    Print the generated random tuple item."
   ]
  },
  {
   "cell_type": "code",
   "execution_count": null,
   "id": "745f34b7",
   "metadata": {},
   "outputs": [],
   "source": [
    "# How can you pick a random item from a range? \n",
    "\n",
    "#   Use the random.\n",
    "#   randrange() function(Returns a random number within the specified range) \n",
    "#   to generate a random number within the given range by passing minimum,and maximum numbers as arguments."
   ]
  },
  {
   "cell_type": "code",
   "execution_count": null,
   "id": "335292f9",
   "metadata": {},
   "outputs": [],
   "source": [
    "# How can you get a random number in python?\n",
    "\n",
    "#  (1) Import the random module of Python.\n",
    "#  (2) Declare a variable mylist and initialize it with the given elements: [1, 3, 5, 7, 9]\n",
    "#  (3) Then, we call the choice() function that takes the list variable as an argument \n",
    "#      and generates a random element from the specified list\n",
    "\n"
   ]
  },
  {
   "cell_type": "code",
   "execution_count": null,
   "id": "3930b386",
   "metadata": {},
   "outputs": [],
   "source": [
    "# How will you set the starting value in generating random numbers?\n",
    "\n",
    "#  The random number generator needs a number to start with (a seed value), to be able to generate a random number. \n",
    "#  By default the random number generator uses the current system time.\n",
    "#  Use the seed() method to customize the start number of the random number generator.\n",
    "\n"
   ]
  },
  {
   "cell_type": "code",
   "execution_count": null,
   "id": "9d7db25c",
   "metadata": {},
   "outputs": [],
   "source": [
    "# How will you randomizes the items of a list in place? \n",
    "\n",
    "# The shuffle() method randomizes the items of a list in place."
   ]
  },
  {
   "cell_type": "code",
   "execution_count": 16,
   "id": "dcdf83b4",
   "metadata": {},
   "outputs": [
    {
     "name": "stdout",
     "output_type": "stream",
     "text": [
      "my age is 23.\n",
      "\n"
     ]
    }
   ],
   "source": [
    "# Write a Python program to read a random line from a file.\n",
    "\n",
    "import random\n",
    "fp = open(\"my_demo.txt\",\"r\")\n",
    "lines = fp.readlines()\n",
    "print(random.choice(lines))\n",
    "fp.close()"
   ]
  },
  {
   "cell_type": "code",
   "execution_count": 21,
   "id": "e0522544",
   "metadata": {},
   "outputs": [
    {
     "name": "stdout",
     "output_type": "stream",
     "text": [
      "Enter a degree: 10\n",
      "covert to degree to radian is:0.17444444444444446\n"
     ]
    }
   ],
   "source": [
    "# Write a Python program to convert degree to radian \n",
    "\n",
    "pi =3.14\n",
    "degree = int(input(\"Enter a degree: \"))\n",
    "radian = degree*3.14/180         # radian formulla\n",
    "print(f\"covert to degree to radian is:{radian}\")"
   ]
  },
  {
   "cell_type": "code",
   "execution_count": 22,
   "id": "cd73ce95",
   "metadata": {},
   "outputs": [
    {
     "name": "stdout",
     "output_type": "stream",
     "text": [
      "Enter a trapzoid height: 10\n",
      "Enter a bottom length: 20\n",
      "Enter a top length: 30\n",
      "Area of trapezoid: 250.0\n"
     ]
    }
   ],
   "source": [
    "# Write a Python program to calculate the area of a trapezoid\n",
    "\n",
    "height = int(input(\"Enter a trapzoid height: \"))\n",
    "bottom_length = int(input(\"Enter a bottom length: \"))\n",
    "top_length = int(input(\"Enter a top length: \"))\n",
    "trapezoid = ((bottom_length+top_length)*height)/2        # Trapezoid formulla\n",
    "print(f\"Area of trapezoid: {trapezoid}\")\n"
   ]
  },
  {
   "cell_type": "code",
   "execution_count": 23,
   "id": "62d4ff12",
   "metadata": {},
   "outputs": [
    {
     "name": "stdout",
     "output_type": "stream",
     "text": [
      "Enter a base value: 10\n",
      "Enter a height value: 20\n",
      "Area of parallelogram: 200\n"
     ]
    }
   ],
   "source": [
    "# Write a Python program to calculate the area of a parallelogram \n",
    "\n",
    "b = int(input(\"Enter a base value: \"))\n",
    "h = int(input(\"Enter a height value: \"))\n",
    "area = b * h                              # parallelogram formulla\n",
    "print(f\"Area of parallelogram: {area}\")"
   ]
  },
  {
   "cell_type": "code",
   "execution_count": 24,
   "id": "46c3ba2c",
   "metadata": {},
   "outputs": [
    {
     "name": "stdout",
     "output_type": "stream",
     "text": [
      "Enter a height of cylinder: 2\n",
      "Enter a radian of cylinder: 10\n",
      "Cylinder volume is: 628.0\n",
      "cylinder area is : 753.6\n"
     ]
    }
   ],
   "source": [
    "# Write a Python program to calculate surface volume and area of a cylinder \n",
    "\n",
    "pi = 3.14\n",
    "h = float(input(\"Enter a height of cylinder: \"))\n",
    "r = float(input(\"Enter a radian of cylinder: \"))\n",
    "volume = 3.14*r*r*h                    # cylinder volume formulla\n",
    "area =((2*3.14*r*h)+(2*3.14*r*r))       # cylinder area formulla\n",
    "print(f\"Cylinder volume is: {volume}\")\n",
    "print(f\"cylinder area is : {area}\")"
   ]
  },
  {
   "cell_type": "code",
   "execution_count": 25,
   "id": "dcc8c77d",
   "metadata": {},
   "outputs": [
    {
     "name": "stdout",
     "output_type": "stream",
     "text": [
      "8\n"
     ]
    }
   ],
   "source": [
    "# Write a Python program to returns sum of all divisors of a number\n",
    "\n",
    "def sum_div(number):\n",
    "    divisors = [1]\n",
    "    for i in range(2, number):\n",
    "        if (number % i)==0:        # To condition check number modulo euql euql zero\n",
    "            divisors.append(i)\n",
    "    return sum(divisors)            # sum of divisiors number\n",
    "print(sum_div(10))\n"
   ]
  },
  {
   "cell_type": "code",
   "execution_count": 27,
   "id": "5d6ff87b",
   "metadata": {},
   "outputs": [
    {
     "name": "stdout",
     "output_type": "stream",
     "text": [
      "Minimum decimal number is: 10.1\n",
      "maximum decimal number is: 10.5\n"
     ]
    }
   ],
   "source": [
    "# Write a Python program to find the maximum and minimum numbers from the specified decimal numbers. \n",
    "\n",
    "import decimal\n",
    "list1 = [10.20,10.30,10.40,10.10,10.50]\n",
    "minimum = min(list1)               # To find minimum decimal number\n",
    "maximum = max(list1)               # To find maximum decimal number\n",
    "print(f\"Minimum decimal number is: {minimum}\")\n",
    "print(f\"maximum decimal number is: {maximum}\")"
   ]
  }
 ],
 "metadata": {
  "kernelspec": {
   "display_name": "Python 3 (ipykernel)",
   "language": "python",
   "name": "python3"
  },
  "language_info": {
   "codemirror_mode": {
    "name": "ipython",
    "version": 3
   },
   "file_extension": ".py",
   "mimetype": "text/x-python",
   "name": "python",
   "nbconvert_exporter": "python",
   "pygments_lexer": "ipython3",
   "version": "3.10.9"
  }
 },
 "nbformat": 4,
 "nbformat_minor": 5
}
