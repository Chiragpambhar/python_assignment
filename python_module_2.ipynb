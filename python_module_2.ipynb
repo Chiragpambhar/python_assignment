{
 "cells": [
  {
   "cell_type": "code",
   "execution_count": 1,
   "id": "adadf843",
   "metadata": {},
   "outputs": [
    {
     "name": "stdout",
     "output_type": "stream",
     "text": [
      "Enter a number :1\n",
      "1 is Positive number\n"
     ]
    }
   ],
   "source": [
    "# Write a Python program to check if a number is positive, negative or zero.\n",
    "\n",
    "num = int(input(\"Enter a number :\"))\n",
    "if num > 0:\n",
    "    print(f\"{num} is Positive number\")\n",
    "elif num < 0:\n",
    "    print(f\"{num} is Nagative number\")\n",
    "else:\n",
    "    print(f\"{num} is zero\")"
   ]
  },
  {
   "cell_type": "code",
   "execution_count": 11,
   "id": "d326e3f7",
   "metadata": {},
   "outputs": [
    {
     "name": "stdout",
     "output_type": "stream",
     "text": [
      "Enter number :5\n",
      "The factorial number of 5 : 120\n"
     ]
    }
   ],
   "source": [
    "# Write a Python program to get the Factorial number of given number.\n",
    "\n",
    "num = int(input(\"Enter number :\"))\n",
    "fact = 1\n",
    "for i in range(1,(num+1)):\n",
    "    fact = fact * i\n",
    "print(f\"The factorial number of {num} : {fact}\")\n",
    "    \n"
   ]
  },
  {
   "cell_type": "code",
   "execution_count": 10,
   "id": "90640264",
   "metadata": {},
   "outputs": [
    {
     "name": "stdout",
     "output_type": "stream",
     "text": [
      "Add numbers until you see the fibonacci series: 7\n",
      "0\n",
      "1\n",
      "1\n",
      "2\n",
      "3\n",
      "5\n",
      "8\n"
     ]
    }
   ],
   "source": [
    "# Write a Python program to get the Fibonacci series of given range.\n",
    "\n",
    "a=0\n",
    "b=1\n",
    "num=int(input(\"Add numbers until you see the fibonacci series: \"))\n",
    "print(a)\n",
    "print(b)\n",
    "for i in range(1,(num-1)):\n",
    "    c=a+b\n",
    "    print(f\"{c}\")\n",
    "    a=b\n",
    "    b=c\n"
   ]
  },
  {
   "cell_type": "code",
   "execution_count": null,
   "id": "47b5b624",
   "metadata": {},
   "outputs": [],
   "source": [
    "# How memory is managed in Python? \n",
    "\n",
    "#--> Overview. Memory management in Python involves a private heap containing all Python objects and data structures. \n",
    "#--> The management of this private heap is ensured internally by the Python memory manager.\n"
   ]
  },
  {
   "cell_type": "code",
   "execution_count": null,
   "id": "5655445a",
   "metadata": {},
   "outputs": [],
   "source": [
    "# What is the purpose continue statement in python?\n",
    "\n",
    "# --> The continue keyword is used to end the current iteration in a for loop and continues to the next iteration.\n",
    "\n"
   ]
  },
  {
   "cell_type": "code",
   "execution_count": 3,
   "id": "7f5d03fd",
   "metadata": {},
   "outputs": [
    {
     "name": "stdout",
     "output_type": "stream",
     "text": [
      "The value of a after swapping 20\n",
      "The value of b after swapping 10\n"
     ]
    }
   ],
   "source": [
    "#  Write python program that swap two number with temp variable and without temp variable.\n",
    "\n",
    "a=10\n",
    "b=20\n",
    "\n",
    "# with temp variable\n",
    "temp=a\n",
    "a=b\n",
    "b=temp\n",
    "print(f\"The value of a after swapping {a}\")\n",
    "print(f\"The value of b after swapping {b}\")\n"
   ]
  },
  {
   "cell_type": "code",
   "execution_count": 4,
   "id": "982431cb",
   "metadata": {},
   "outputs": [
    {
     "name": "stdout",
     "output_type": "stream",
     "text": [
      "The value of a after swapping 20\n",
      "The value of b after swapping 10\n"
     ]
    }
   ],
   "source": [
    "#  Write python program that swap two number with temp variable and without temp variable.\n",
    "\n",
    "a=10\n",
    "b=20\n",
    "# without temp variable\n",
    "a=a+b\n",
    "b=a-b\n",
    "a=a-b\n",
    "print(f\"The value of a after swapping {a}\")\n",
    "print(f\"The value of b after swapping {b}\")\n"
   ]
  },
  {
   "cell_type": "code",
   "execution_count": 2,
   "id": "b0526416",
   "metadata": {},
   "outputs": [
    {
     "name": "stdout",
     "output_type": "stream",
     "text": [
      "Enter a number: 2\n",
      "2 is even number\n"
     ]
    }
   ],
   "source": [
    "# Write a Python program to find whether a given number is even or odd,print out an appropriate message to the user. \n",
    "\n",
    "num=int(input(\"Enter a number: \"))\n",
    "\n",
    "if (num % 2 == 0):\n",
    "    print(f\"{num} is even number\")\n",
    "else:\n",
    "    print(f\"{num} is odd number\")\n"
   ]
  },
  {
   "cell_type": "code",
   "execution_count": 6,
   "id": "d3dcc81a",
   "metadata": {
    "scrolled": true
   },
   "outputs": [
    {
     "name": "stdout",
     "output_type": "stream",
     "text": [
      "Enter the one alphabet: I\n",
      "(I) alphabet is vowel\n"
     ]
    }
   ],
   "source": [
    "# Write a Python program to test whether a passed letter is a vowel or not.\n",
    "\n",
    "char=input(\"Enter the one alphabet: \")\n",
    "if char=='a'or char=='e'or char=='i'or char=='o'or char=='u'or char=='A'or char=='E'or char=='I'or char=='O'or char=='U':\n",
    "    print(f\"({char}) alphabet is vowel\")\n",
    "else:\n",
    "    print(f\"({char}) alphabet is consonant\")\n",
    "\n"
   ]
  },
  {
   "cell_type": "code",
   "execution_count": 3,
   "id": "6f9f6cda",
   "metadata": {},
   "outputs": [
    {
     "name": "stdout",
     "output_type": "stream",
     "text": [
      "Enter a value of a:10\n",
      "Enter a value of b:10\n",
      "Enter a value of c:20\n",
      "Zero\n"
     ]
    }
   ],
   "source": [
    "# Write a Python program to sum of three given integers. However, if two values are equal sum will be zero.\n",
    "\n",
    "a=int(input(\"Enter a value of a:\"))\n",
    "b=int(input(\"Enter a value of b:\"))\n",
    "c=int(input(\"Enter a value of c:\"))\n",
    "sum=a+b+c\n",
    "\n",
    "if a==b or a==c or b==c:\n",
    "    print(\"Zero\")\n",
    "else:\n",
    "    print(f\"The sum of a,b,c is:{sum}\")\n",
    "\n",
    "    \n"
   ]
  },
  {
   "cell_type": "code",
   "execution_count": 8,
   "id": "1106ea2a",
   "metadata": {},
   "outputs": [
    {
     "name": "stdout",
     "output_type": "stream",
     "text": [
      "Enter a value of a:9\n",
      "Enter a value of b:5\n",
      "false\n"
     ]
    }
   ],
   "source": [
    "# Write a Python program that will return true if the two given integer values are equal or their sum or difference is 5.\n",
    "\n",
    "a=int(input(\"Enter a value of a:\"))\n",
    "b=int(input(\"Enter a value of b:\"))\n",
    "if a==b or (a+b)==5 or (a-b)==5:\n",
    "    print(\"True\")\n",
    "else:\n",
    "    print(\"false\")\n",
    "    \n"
   ]
  },
  {
   "cell_type": "code",
   "execution_count": 16,
   "id": "218339dc",
   "metadata": {},
   "outputs": [
    {
     "name": "stdout",
     "output_type": "stream",
     "text": [
      "Enter a positive integer value:10\n",
      "The sum of positive integer value:55.0\n"
     ]
    }
   ],
   "source": [
    "# Write a python program to sum of the first n positive integers.\n",
    "\n",
    "num=int(input(\"Enter a positive integer value:\"))\n",
    "\n",
    "sum = (num*(num+1))/2\n",
    "print(f\"The sum of positive integer value:{sum}\")\n",
    "\n"
   ]
  },
  {
   "cell_type": "code",
   "execution_count": 4,
   "id": "58073662",
   "metadata": {},
   "outputs": [
    {
     "name": "stdout",
     "output_type": "stream",
     "text": [
      "Enter a string name:chirag\n",
      "The length of string is :6\n"
     ]
    }
   ],
   "source": [
    "# Write a Python program to calculate the length of a string.\n",
    "\n",
    "str1=input(\"Enter a string name:\")\n",
    "length=len(str1)\n",
    "print(f\"The length of string is :{length}\")\n",
    "\n"
   ]
  },
  {
   "cell_type": "code",
   "execution_count": 3,
   "id": "e6a01ab0",
   "metadata": {
    "scrolled": true
   },
   "outputs": [
    {
     "name": "stdout",
     "output_type": "stream",
     "text": [
      "{'c': 1, 'h': 2, 'i': 1, 'r': 2, 'a': 3, 'g': 1, ' ': 1, 'p': 1, 'm': 1, 'b': 1}\n"
     ]
    }
   ],
   "source": [
    "# Write a Python program to count the number of characters (character frequency) in a string.\n",
    "\n",
    "str1 = \"chirag pambhar\"\n",
    "a = dict()\n",
    "for i in str1:\n",
    "    if i in a:\n",
    "        a[i] += 1\n",
    "    else:\n",
    "        a[i] = 1\n",
    "print(a)"
   ]
  },
  {
   "cell_type": "code",
   "execution_count": null,
   "id": "ba75f5e5",
   "metadata": {},
   "outputs": [],
   "source": [
    "# What are negative indexes and why are they used? \n",
    "\n",
    "#--> Negative Indexing is used to in Python to begin slicing from the end of the string i.e. the last. \n",
    "#--> Slicing in Python gets a sub-string from a string. \n",
    "#--> The slicing range is set as parameters i.e. start, stop and step.\n",
    " \n"
   ]
  },
  {
   "cell_type": "code",
   "execution_count": 2,
   "id": "fbace714",
   "metadata": {},
   "outputs": [
    {
     "name": "stdout",
     "output_type": "stream",
     "text": [
      "count of substring is:1\n"
     ]
    }
   ],
   "source": [
    "# Write a Python program to count occurrences of a substring in a string.   \n",
    "\n",
    "str1 = \"my name is chirag pambhar\"\n",
    "str2=str1.count(\"chirag\")\n",
    "print(f\"count of substring is:{str2}\")\n",
    "\n"
   ]
  },
  {
   "cell_type": "code",
   "execution_count": 73,
   "id": "f9904881",
   "metadata": {},
   "outputs": [
    {
     "name": "stdout",
     "output_type": "stream",
     "text": [
      "{'my': 1, 'name': 1, 'is': 1, 'chirag': 1, 'pambhar': 1}\n"
     ]
    }
   ],
   "source": [
    "#  Write a Python program to count the occurrences of each word in a given sentence.\n",
    "\n",
    "str1 = \"my name is chirag pambhar\"\n",
    "count = dict()\n",
    "word = str1.split()\n",
    "for i in word:\n",
    "    if i in count:\n",
    "        count[i] += 1\n",
    "    else:\n",
    "        count[i] = 1\n",
    "print(count)"
   ]
  },
  {
   "cell_type": "code",
   "execution_count": 82,
   "id": "6593d31b",
   "metadata": {},
   "outputs": [
    {
     "name": "stdout",
     "output_type": "stream",
     "text": [
      "hello chirag\n",
      "ehllo hcirag\n"
     ]
    }
   ],
   "source": [
    "# Write a Python program to get a single string from two given strings,\n",
    "# separated by a space and swap the first two characters of each string.\n",
    "\n",
    "str1 = \"hello\"\n",
    "str2 = \"chirag\"\n",
    "print(str1 + \" \"+ str2)\n",
    "str1 = str1[-4:-6:-1] + str1[2:5] \n",
    "str2 = str2[-5:-7:-1] + str2[2:6]\n",
    "print(str1 + \" \"+ str2)\n",
    "\n"
   ]
  },
  {
   "cell_type": "code",
   "execution_count": 9,
   "id": "71c7deef",
   "metadata": {},
   "outputs": [
    {
     "name": "stdout",
     "output_type": "stream",
     "text": [
      "Enter a string : ing\n",
      "ingly\n"
     ]
    }
   ],
   "source": [
    "# Write a Python program to add 'ing' at the end of a given string (length should be at least 3).If the given string already \n",
    "# ends with 'ing' then add'ly' instead if the string length of the given string is less than 3,leave it unchanged.\n",
    "\n",
    "str1 = input(\"Enter a string : \")\n",
    "if len(str1)<3:\n",
    "    print(str1)\n",
    "elif str1.endswith(\"ing\"):\n",
    "    print(str1+\"ly\")\n",
    "else:\n",
    "    print(str1+\"ing\")\n",
    "    "
   ]
  },
  {
   "cell_type": "code",
   "execution_count": 30,
   "id": "ff23a1f6",
   "metadata": {},
   "outputs": [
    {
     "name": "stdout",
     "output_type": "stream",
     "text": [
      "Enter a string: he is not a ver very poor person\n",
      "he is good person\n"
     ]
    }
   ],
   "source": [
    "# Write a Python program to find the first appearance of the substring 'not' and 'poor' from a given string, if 'not' follows \n",
    "# the 'poor', replace the whole 'not'...'poor' substring with 'good'. Return the resulting string.\n",
    "\n",
    "str1 = input(\"Enter a string: \")\n",
    "a = str1.find(\"not\")\n",
    "b = str1.find(\"poor\")\n",
    "if b>a:\n",
    "    str1 = str1.replace(str1[a:b+4],\"good\")\n",
    "    print(str1)\n",
    "else:\n",
    "    print(\"Not and Poor is not available in string\")\n"
   ]
  },
  {
   "cell_type": "code",
   "execution_count": 12,
   "id": "42e7ad2f",
   "metadata": {},
   "outputs": [
    {
     "name": "stdout",
     "output_type": "stream",
     "text": [
      "the longest word is: pambhar\n",
      "the length of longest word: 7\n"
     ]
    }
   ],
   "source": [
    "# Write a Python function that takes a list of words and returns the length of the longest one.\n",
    "\n",
    "word_list = [\"chirag\",\"pambhar\",\"hello\",\"friend\"]\n",
    "a=max(word_list)\n",
    "b=len(a)\n",
    "print(f\"the longest word is: {a}\")\n",
    "print(f\"the length of longest word: {b}\")"
   ]
  },
  {
   "cell_type": "code",
   "execution_count": 1,
   "id": "3128b102",
   "metadata": {},
   "outputs": [
    {
     "name": "stdout",
     "output_type": "stream",
     "text": [
      "Enter a string(string length is multiple of 4):abcd\n",
      "dcba\n"
     ]
    }
   ],
   "source": [
    "# Write a Python function to reverses a string if its length is a multiple of 4. \n",
    "\n",
    "str1=input(\"Enter a string(string length is multiple of 4):\")\n",
    "if (len(str1) % 4 == 0):\n",
    "    print(str1[::-1])\n",
    "else:\n",
    "    print(\"string is can not reverse\")\n",
    "\n"
   ]
  },
  {
   "cell_type": "code",
   "execution_count": 17,
   "id": "8d431e1d",
   "metadata": {},
   "outputs": [
    {
     "name": "stdout",
     "output_type": "stream",
     "text": [
      "Enter a string: chirag\n",
      "chag\n"
     ]
    }
   ],
   "source": [
    "# Write a Python program to get a string made of the first 2 and the last 2 chars from a given a string. If the string length is\n",
    "# less than 2, return instead of the empty string.\n",
    "\n",
    "str1 = input(\"Enter a string: \")\n",
    "if len(str1)<3:\n",
    "    print(\" \")\n",
    "else:\n",
    "    str2 = str1[:2] + str1[-2:]\n",
    "    print(str2)\n"
   ]
  },
  {
   "cell_type": "code",
   "execution_count": 41,
   "id": "e0dd8a0b",
   "metadata": {},
   "outputs": [
    {
     "name": "stdout",
     "output_type": "stream",
     "text": [
      "Enter a main string : i am chirag pambhar\n",
      "Enter a middle string : hello\n",
      "19\n",
      "string is not middle \n"
     ]
    }
   ],
   "source": [
    "# Write a Python function to insert a string in the middle of a string.\n",
    "    \n",
    "str1 = input(\"Enter a main string : \")\n",
    "str2 = input(\"Enter a middle string : \")\n",
    "length=len(str1)\n",
    "print(length)\n",
    "if (length % 2 == 0):\n",
    "    str1 = str1[:length] + str2 + str1[length:]\n",
    "    print(str1)\n",
    "else:\n",
    "    print(\"string is not middle \")\n",
    "    \n"
   ]
  }
 ],
 "metadata": {
  "kernelspec": {
   "display_name": "Python 3 (ipykernel)",
   "language": "python",
   "name": "python3"
  },
  "language_info": {
   "codemirror_mode": {
    "name": "ipython",
    "version": 3
   },
   "file_extension": ".py",
   "mimetype": "text/x-python",
   "name": "python",
   "nbconvert_exporter": "python",
   "pygments_lexer": "ipython3",
   "version": "3.10.9"
  }
 },
 "nbformat": 4,
 "nbformat_minor": 5
}
